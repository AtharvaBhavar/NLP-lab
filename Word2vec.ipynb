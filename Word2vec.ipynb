{
 "cells": [
  {
   "cell_type": "code",
   "execution_count": 1,
   "id": "1dc9d36d-35e7-497d-8f90-10e59ae84106",
   "metadata": {},
   "outputs": [
    {
     "name": "stdout",
     "output_type": "stream",
     "text": [
      "Requirement already satisfied: gensim in c:\\users\\bhava\\anaconda3\\lib\\site-packages (4.3.3)\n",
      "Requirement already satisfied: numpy<2.0,>=1.18.5 in c:\\users\\bhava\\anaconda3\\lib\\site-packages (from gensim) (1.26.4)\n",
      "Requirement already satisfied: scipy<1.14.0,>=1.7.0 in c:\\users\\bhava\\anaconda3\\lib\\site-packages (from gensim) (1.13.1)\n",
      "Requirement already satisfied: smart-open>=1.8.1 in c:\\users\\bhava\\anaconda3\\lib\\site-packages (from gensim) (5.2.1)\n",
      "Note: you may need to restart the kernel to use updated packages.\n"
     ]
    }
   ],
   "source": [
    "pip install gensim\n"
   ]
  },
  {
   "cell_type": "code",
   "execution_count": 1,
   "id": "8dfe7503-8910-491b-af7a-577205070e5b",
   "metadata": {},
   "outputs": [],
   "source": [
    "import gensim\n",
    "from gensim import corpora\n",
    "from gensim.utils import simple_preprocess\n",
    "\n",
    "text2 = [\"\"\"I love programming\n",
    "         Python is my favorite programming language.\n",
    "         Programming allows me to solve real-world problems.\"\"\"]\n"
   ]
  },
  {
   "cell_type": "code",
   "execution_count": 2,
   "id": "89f385d1-b384-4c46-8c07-85618332858e",
   "metadata": {},
   "outputs": [
    {
     "name": "stdout",
     "output_type": "stream",
     "text": [
      "The dictionary has: 15 tokens\n",
      "\n",
      "{'I': 0, 'Programming': 1, 'Python': 2, 'allows': 3, 'favorite': 4, 'is': 5, 'language.': 6, 'love': 7, 'me': 8, 'my': 9, 'problems.': 10, 'programming': 11, 'real-world': 12, 'solve': 13, 'to': 14}\n",
      "Bag of Words :  [[(0, 1), (1, 1), (2, 1), (3, 1), (4, 1), (5, 1), (6, 1), (7, 1), (8, 1), (9, 1), (10, 1), (11, 2), (12, 1), (13, 1), (14, 1)]]\n"
     ]
    }
   ],
   "source": [
    "tokens2 = [[item for item in line.split()] for line in text2]\n",
    "g_dict2 = corpora.Dictionary(tokens2)\n",
    "\n",
    "print(\"The dictionary has: \" + str(len(g_dict2)) + \" tokens\\n\")\n",
    "print(g_dict2.token2id)\n",
    "\n",
    "g_bow2 = [g_dict2.doc2bow(token, allow_update=True) for token in tokens2]\n",
    "print(\"Bag of Words : \", g_bow2)\n",
    "\n"
   ]
  },
  {
   "cell_type": "code",
   "execution_count": 3,
   "id": "5ab565ac-fb49-4944-ada3-88f0d96c6f5f",
   "metadata": {},
   "outputs": [
    {
     "name": "stdout",
     "output_type": "stream",
     "text": [
      "\n",
      "Dictionary : \n",
      "[['allows', 1], ['favorite', 1], ['is', 1], ['language', 1], ['love', 1], ['me', 1], ['my', 1], ['problems', 1], ['programming', 3], ['python', 1], ['real', 1], ['solve', 1], ['to', 1], ['world', 1]]\n"
     ]
    }
   ],
   "source": [
    "text3 = [\"\"\"I love programming\n",
    "         Python is my favorite programming language.\n",
    "         Programming allows me to solve real-world problems.\"\"\"]\n",
    "\n",
    "g_dict3 = corpora.Dictionary([simple_preprocess(line) for line in text3])\n",
    "g_bow3 = [g_dict3.doc2bow(simple_preprocess(line)) for line in text3]\n",
    "\n",
    "print(\"\\nDictionary : \")\n",
    "for item in g_bow3:\n",
    "    print([[g_dict3[id], freq] for id, freq in item])"
   ]
  },
  {
   "cell_type": "code",
   "execution_count": null,
   "id": "dd672ae9-af51-4cce-b0bf-e943d99bbe0a",
   "metadata": {},
   "outputs": [],
   "source": []
  }
 ],
 "metadata": {
  "kernelspec": {
   "display_name": "Python 3 (ipykernel)",
   "language": "python",
   "name": "python3"
  },
  "language_info": {
   "codemirror_mode": {
    "name": "ipython",
    "version": 3
   },
   "file_extension": ".py",
   "mimetype": "text/x-python",
   "name": "python",
   "nbconvert_exporter": "python",
   "pygments_lexer": "ipython3",
   "version": "3.12.7"
  }
 },
 "nbformat": 4,
 "nbformat_minor": 5
}
